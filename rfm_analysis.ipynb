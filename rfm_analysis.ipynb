{
    "metadata": {
        "kernelspec": {
            "name": "SQL",
            "display_name": "SQL",
            "language": "sql"
        },
        "language_info": {
            "name": "sql",
            "version": ""
        }
    },
    "nbformat_minor": 2,
    "nbformat": 4,
    "cells": [
        {
            "cell_type": "code",
            "source": [
                "-- Using Database AdventureWorksDW2020, table dbo.FactInternetSales, write a query that will query Rention Cohort Analysis based on First time Customer Purchase in the period of Jan 2020 to Jan 2021\n",
                "\n",
                "-- Tính chỉ số R, F, M\n",
                "WITH CustSales AS(\n",
                "SELECT\n",
                "   CustomerKey,\n",
                "   COUNT(DISTINCT SalesOrderNumber) AS Frequency,\n",
                "   MAX(OrderDate) AS ClosestOrderDate,\n",
                "   SUM(SalesAmount) AS Monetary,\n",
                "   DATEDIFF(DAY, MAX(OrderDate), (SELECT MAX(OrderDate) FROM FactInternetSales)) AS Recency\n",
                "FROM FactInternetSales\n",
                "GROUP BY CustomerKey\n",
                "),\n",
                "\n",
                "-- Tính điểm từ 1 đến 4\n",
                "rfm AS (\n",
                "SELECT\n",
                "    CustomerKey,\n",
                "    NTILE(4) OVER (ORDER BY Recency DESC) AS R,\n",
                "    NTILE(4) OVER (ORDER BY Frequency) AS F,\n",
                "    NTILE(4) OVER (ORDER BY Monetary) AS M\n",
                "FROM CustSales\n",
                "),\n",
                "\n",
                "rfm_score AS (SELECT\n",
                "    CustomerKey,\n",
                "    CONCAT(NTILE(4) OVER (ORDER BY Recency DESC), NTILE(4) OVER (ORDER BY Frequency), NTILE(4) OVER (ORDER BY Monetary)) AS rfm_score\n",
                "FROM CustSales\n",
                "),\n",
                "\n",
                "-- Đặt điều kiện\n",
                "CustSegmentation AS (SELECT \n",
                "    *,\n",
                "    CASE \n",
                "        WHEN rfm_score LIKE '1__' THEN 'Lost Customer'\n",
                "        WHEN rfm_score LIKE '[3,4][3,4][3,4]' THEN 'Loyal Customer'\n",
                "        WHEN rfm_score LIKE '[3,4][3,4][1,2]' THEN 'Promising'\n",
                "        WHEN rfm_score LIKE '_[1,2]4' THEN 'Big spender'\n",
                "        WHEN rfm_score LIKE '[3,4][1,2]_' THEN 'New customer'\n",
                "        WHEN rfm_score LIKE '2__' THEN 'Potiential churn'\n",
                "    END AS CustomerSegmentation\n",
                "FROM rfm_score)\n",
                "\n",
                "SELECT\n",
                "    COUNT(CustomerKey) AS NoofCustomer,\n",
                "    CustomerSegmentation\n",
                "FROM CustSegmentation\n",
                "GROUP BY CustomerSegmentation"
            ],
            "metadata": {
                "azdata_cell_guid": "ab3549d5-75c7-4db4-af11-522aad7d7e8a",
                "language": "sql",
                "tags": []
            },
            "outputs": [],
            "execution_count": null
        }
    ]
}